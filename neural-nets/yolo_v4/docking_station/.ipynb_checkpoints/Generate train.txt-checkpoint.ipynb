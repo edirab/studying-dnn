{
 "cells": [
  {
   "cell_type": "code",
   "execution_count": 8,
   "metadata": {},
   "outputs": [
    {
     "name": "stdout",
     "output_type": "stream",
     "text": [
      "[('./dataset_1/images/train', [], ['pyramid0001.jpg', 'pyramid0002.jpg', 'pyramid0003.jpg', 'pyramid0004.jpg', 'pyramid0049.jpg', 'pyramid0050.jpg', 'pyramid0051.jpg', 'pyramid0052.jpg', 'pyramid0085.jpg', 'pyramid0086.jpg', 'pyramid0087.jpg', 'pyramid0088.jpg', 'pyramid0163.jpg', 'pyramid0164.jpg', 'pyramid0165.jpg', 'pyramid0166.jpg', 'pyramid0217.jpg', 'pyramid0218.jpg', 'pyramid0219.jpg', 'pyramid0223.jpg', 'pyramid0224.jpg', 'pyramid0225.jpg', 'pyramid0253.jpg', 'pyramid0254.jpg', 'pyramid0255.jpg', 'pyramid0256.jpg', 'pyramid0257.jpg', 'pyramid0258.jpg', 'pyramid0301.jpg', 'pyramid0302.jpg', 'pyramid0303.jpg', 'pyramid0304.jpg', 'pyramid0305.jpg', 'pyramid0337.jpg', 'pyramid0338.jpg', 'pyramid0339.jpg', 'pyramid0340.jpg', 'pyramid0341.jpg', 'pyramid0439.jpg', 'pyramid0440.jpg', 'pyramid0441.jpg', 'pyramid0442.jpg', 'pyramid0517.jpg', 'pyramid0518.jpg', 'pyramid0519.jpg', 'pyramid0520.jpg', 'pyramid0521.jpg', 'pyramid0522.jpg', 'pyramid0523.jpg', 'pyramid0524.jpg', 'pyramid0525.jpg', 'pyramid0526.jpg', 'pyramid0527.jpg', 'pyramid0528.jpg', 'pyramid0529.jpg', 'pyramid0530.jpg', 'pyramid0531.jpg', 'pyramid0532.jpg', 'pyramid0533.jpg', 'pyramid0534.jpg', 'pyramid0559.jpg', 'pyramid0560.jpg', 'pyramid0561.jpg', 'pyramid0562.jpg', 'pyramid0563.jpg', 'pyramid0564.jpg', 'pyramid0625.jpg', 'pyramid0626.jpg', 'pyramid0627.jpg', 'pyramid0628.jpg', 'pyramid0629.jpg', 'pyramid0630.jpg', 'pyramid0631.jpg', 'pyramid0632.jpg', 'pyramid0633.jpg', 'pyramid0634.jpg', 'pyramid0635.jpg', 'pyramid0636.jpg', 'pyramid0637.jpg', 'pyramid0638.jpg', 'pyramid0639.jpg'])]\n"
     ]
    }
   ],
   "source": [
    "import os\n",
    "\n",
    "d = list(os.walk('./dataset_1/images/train'))\n",
    "\n",
    "for elem in d:\n",
    "    print(d)\n",
    "\n",
    "data = \"\"\"\n",
    "pyramid0001.jpg\n",
    "pyramid0002.jpg\n",
    "pyramid0003.jpg\n",
    "pyramid0004.jpg\n",
    "pyramid0049.jpg\n",
    "pyramid0050.jpg\n",
    "pyramid0051.jpg\n",
    "pyramid0052.jpg\n",
    "pyramid0085.jpg\n",
    "pyramid0086.jpg\n",
    "pyramid0087.jpg\n",
    "pyramid0088.jpg\n",
    "pyramid0163.jpg\n",
    "pyramid0164.jpg\n",
    "pyramid0165.jpg\n",
    "pyramid0166.jpg\n",
    "pyramid0217.jpg\n",
    "pyramid0218.jpg\n",
    "pyramid0219.jpg\n",
    "pyramid0223.jpg\n",
    "pyramid0224.jpg\n",
    "pyramid0225.jpg\n",
    "pyramid0253.jpg\n",
    "pyramid0254.jpg\n",
    "pyramid0255.jpg\n",
    "pyramid0256.jpg\n",
    "pyramid0257.jpg\n",
    "pyramid0258.jpg\n",
    "pyramid0301.jpg\n",
    "pyramid0302.jpg\n",
    "pyramid0303.jpg\n",
    "pyramid0304.jpg\n",
    "pyramid0305.jpg\n",
    "pyramid0337.jpg\n",
    "pyramid0338.jpg\n",
    "pyramid0339.jpg\n",
    "pyramid0340.jpg\n",
    "pyramid0341.jpg\n",
    "pyramid0439.jpg\n",
    "pyramid0440.jpg\n",
    "pyramid0441.jpg\n",
    "pyramid0442.jpg\n",
    "pyramid0517.jpg\n",
    "pyramid0518.jpg\n",
    "pyramid0519.jpg\n",
    "pyramid0520.jpg\n",
    "pyramid0521.jpg\n",
    "pyramid0522.jpg\n",
    "pyramid0523.jpg\n",
    "pyramid0524.jpg\n",
    "pyramid0525.jpg\n",
    "pyramid0526.jpg\n",
    "pyramid0527.jpg\n",
    "pyramid0528.jpg\n",
    "pyramid0529.jpg\n",
    "pyramid0530.jpg\n",
    "pyramid0531.jpg\n",
    "pyramid0532.jpg\n",
    "pyramid0533.jpg\n",
    "pyramid0534.jpg\n",
    "pyramid0559.jpg\n",
    "pyramid0560.jpg\n",
    "pyramid0561.jpg\n",
    "pyramid0562.jpg\n",
    "pyramid0563.jpg\n",
    "pyramid0564.jpg\n",
    "pyramid0625.jpg\n",
    "pyramid0626.jpg\n",
    "pyramid0627.jpg\n",
    "pyramid0628.jpg\n",
    "pyramid0629.jpg\n",
    "pyramid0630.jpg\n",
    "pyramid0631.jpg\n",
    "pyramid0632.jpg\n",
    "pyramid0633.jpg\n",
    "pyramid0634.jpg\n",
    "pyramid0635.jpg\n",
    "pyramid0636.jpg\n",
    "pyramid0637.jpg\n",
    "pyramid0638.jpg\n",
    "pyramid0639.jpg\n",
    "\"\"\""
   ]
  },
  {
   "cell_type": "code",
   "execution_count": 6,
   "metadata": {},
   "outputs": [
    {
     "name": "stdout",
     "output_type": "stream",
     "text": [
      "data/waiter/1.jpg\n",
      "data/waiter/2.jpg\n",
      "data/waiter/3.jpg\n",
      "data/waiter/4.jpg\n",
      "data/waiter/with1170.jpg\n",
      "data/waiter/with1171.jpg\n",
      "data/waiter/with1173.jpg\n",
      "data/waiter/with1174.jpg\n",
      "data/waiter/with1392.jpg\n",
      "data/waiter/with1393.jpg\n",
      "data/waiter/with1394.jpg\n",
      "data/waiter/with1395.jpg\n",
      "data/waiter/with1681.jpg\n",
      "data/waiter/with1682.jpg\n",
      "data/waiter/with1683.jpg\n",
      "data/waiter/with1684.jpg\n",
      "data/waiter/with2082.jpg\n",
      "data/waiter/with2083.jpg\n",
      "data/waiter/with2084.jpg\n",
      "data/waiter/with2085.jpg\n",
      "data/waiter/with2086.jpg\n",
      "data/waiter/with2203.jpg\n",
      "data/waiter/with2204.jpg\n",
      "data/waiter/with2205.jpg\n",
      "data/waiter/with2206.jpg\n",
      "data/waiter/with2207.jpg\n",
      "data/waiter/with2532.jpg\n",
      "data/waiter/with2533.jpg\n",
      "data/waiter/with2534.jpg\n",
      "data/waiter/with2535.jpg\n",
      "data/waiter/with2536.jpg\n",
      "data/waiter/with2568.jpg\n",
      "data/waiter/with2570.jpg\n",
      "data/waiter/with2571.jpg\n",
      "data/waiter/with2572.jpg\n",
      "data/waiter/with2573.jpg\n",
      "data/waiter/with2635.jpg\n",
      "data/waiter/with2636.jpg\n",
      "data/waiter/with2637.jpg\n",
      "data/waiter/with2638.jpg\n",
      "data/waiter/with2652.jpg\n",
      "data/waiter/with2654.jpg\n",
      "data/waiter/with2655.jpg\n",
      "data/waiter/with2656.jpg\n",
      "data/waiter/with2657.jpg\n",
      "data/waiter/with2726.jpg\n",
      "data/waiter/with2727.jpg\n",
      "data/waiter/with2728.jpg\n",
      "data/waiter/with2729.jpg\n",
      "data/waiter/with2791.jpg\n",
      "data/waiter/with2792.jpg\n",
      "data/waiter/with2794.jpg\n",
      "data/waiter/with2795.jpg\n",
      "data/waiter/with663.jpg\n",
      "data/waiter/with664.jpg\n",
      "data/waiter/with665.jpg\n",
      "data/waiter/with668.jpg\n",
      "data/waiter/with669.jpg\n",
      "data/waiter/with670.jpg\n",
      "data/waiter/with671.jpg\n",
      "data/waiter/with675.jpg\n",
      "data/waiter/with677.jpg\n",
      "data/waiter/with876.jpg\n",
      "data/waiter/with877.jpg\n",
      "data/waiter/with878.jpg\n",
      "data/waiter/with879.jpg\n",
      "data/waiter/with880.jpg\n",
      "data/waiter/with881.jpg\n",
      "data/waiter/with930.jpg\n",
      "data/waiter/with931.jpg\n",
      "data/waiter/with932.jpg\n",
      "data/waiter/with933.jpg\n"
     ]
    }
   ],
   "source": [
    "for line in data.split():\n",
    "    print(\"data/waiter/\", line, sep='')"
   ]
  },
  {
   "cell_type": "code",
   "execution_count": 8,
   "metadata": {},
   "outputs": [
    {
     "name": "stdout",
     "output_type": "stream",
     "text": [
      "’ҐЄгй п Є®¤®ў п бва ­Ёж : 1251\n"
     ]
    }
   ],
   "source": [
    "!chcp 1251"
   ]
  },
  {
   "cell_type": "code",
   "execution_count": 11,
   "metadata": {},
   "outputs": [
    {
     "name": "stderr",
     "output_type": "stream",
     "text": [
      "Системе не удается найти указанный путь.\n"
     ]
    },
    {
     "name": "stdout",
     "output_type": "stream",
     "text": [
      " Том в устройстве D имеет метку Локальный диск\n",
      " Серийный номер тома: ACBA-562F\n",
      "\n",
      " Содержимое папки D:\\ML\\data\\waiter\\dataset_1\n",
      "\n",
      "10.04.2021  14:03    <DIR>          .\n",
      "10.04.2021  14:03    <DIR>          ..\n",
      "10.04.2021  14:02    <DIR>          .ipynb_checkpoints\n",
      "10.04.2021  13:54                 7 classes.names\n",
      "10.04.2021  14:03             6 117 Generate train.txt.ipynb\n",
      "10.04.2021  12:44    <DIR>          images\n",
      "10.04.2021  12:39    <DIR>          inet\n",
      "10.04.2021  12:44    <DIR>          labels\n",
      "10.04.2021  13:58               889 train.txt\n",
      "10.04.2021  13:53                99 yolov4.data\n",
      "               4 файлов          7 112 байт\n",
      "               6 папок  301 564 887 040 байт свободно\n"
     ]
    }
   ],
   "source": [
    "import os\n",
    "\n",
    "!cd /images/val\n",
    "!dir"
   ]
  },
  {
   "cell_type": "code",
   "execution_count": 14,
   "metadata": {},
   "outputs": [],
   "source": [
    "val_labels = \"\"\"\n",
    "5.jpg\n",
    "6.jpg\n",
    "7.jpg\n",
    "with1172.jpg\n",
    "with1175.jpg\n",
    "with1396.jpg\n",
    "with1680.jpg\n",
    "with1685.jpg\n",
    "with2202.jpg\n",
    "with2569.jpg\n",
    "with2634.jpg\n",
    "with2639.jpg\n",
    "with2653.jpg\n",
    "with2724.jpg\n",
    "with2725.jpg\n",
    "with2790.jpg\n",
    "with2793.jpg\n",
    "with662.jpg\n",
    "with674.jpg\n",
    "with676.jpg\n",
    "\"\"\""
   ]
  },
  {
   "cell_type": "code",
   "execution_count": 15,
   "metadata": {},
   "outputs": [
    {
     "name": "stdout",
     "output_type": "stream",
     "text": [
      "data/waiter/5.jpg\n",
      "data/waiter/6.jpg\n",
      "data/waiter/7.jpg\n",
      "data/waiter/with1172.jpg\n",
      "data/waiter/with1175.jpg\n",
      "data/waiter/with1396.jpg\n",
      "data/waiter/with1680.jpg\n",
      "data/waiter/with1685.jpg\n",
      "data/waiter/with2202.jpg\n",
      "data/waiter/with2569.jpg\n",
      "data/waiter/with2634.jpg\n",
      "data/waiter/with2639.jpg\n",
      "data/waiter/with2653.jpg\n",
      "data/waiter/with2724.jpg\n",
      "data/waiter/with2725.jpg\n",
      "data/waiter/with2790.jpg\n",
      "data/waiter/with2793.jpg\n",
      "data/waiter/with662.jpg\n",
      "data/waiter/with674.jpg\n",
      "data/waiter/with676.jpg\n"
     ]
    }
   ],
   "source": [
    "for line in val_labels.split():\n",
    "    print(\"data/waiter/\", line, sep='')"
   ]
  }
 ],
 "metadata": {
  "kernelspec": {
   "display_name": "Python 3",
   "language": "python",
   "name": "python3"
  },
  "language_info": {
   "codemirror_mode": {
    "name": "ipython",
    "version": 3
   },
   "file_extension": ".py",
   "mimetype": "text/x-python",
   "name": "python",
   "nbconvert_exporter": "python",
   "pygments_lexer": "ipython3",
   "version": "3.8.5"
  }
 },
 "nbformat": 4,
 "nbformat_minor": 4
}
