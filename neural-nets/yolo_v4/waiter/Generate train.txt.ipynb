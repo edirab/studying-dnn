{
 "cells": [
  {
   "cell_type": "code",
   "execution_count": 3,
   "metadata": {},
   "outputs": [],
   "source": [
    "f = open('train.txt')\n",
    "\n",
    "data = f.read()"
   ]
  },
  {
   "cell_type": "code",
   "execution_count": 4,
   "metadata": {},
   "outputs": [
    {
     "name": "stdout",
     "output_type": "stream",
     "text": [
      "1.jpg\n",
      "2.jpg\n",
      "3.jpg\n",
      "4.jpg\n",
      "with1170.jpg\n",
      "with1171.jpg\n",
      "with1173.jpg\n",
      "with1174.jpg\n",
      "with1392.jpg\n",
      "with1393.jpg\n",
      "with1394.jpg\n",
      "with1395.jpg\n",
      "with1681.jpg\n",
      "with1682.jpg\n",
      "with1683.jpg\n",
      "with1684.jpg\n",
      "with2082.jpg\n",
      "with2083.jpg\n",
      "with2084.jpg\n",
      "with2085.jpg\n",
      "with2086.jpg\n",
      "with2203.jpg\n",
      "with2204.jpg\n",
      "with2205.jpg\n",
      "with2206.jpg\n",
      "with2207.jpg\n",
      "with2532.jpg\n",
      "with2533.jpg\n",
      "with2534.jpg\n",
      "with2535.jpg\n",
      "with2536.jpg\n",
      "with2568.jpg\n",
      "with2570.jpg\n",
      "with2571.jpg\n",
      "with2572.jpg\n",
      "with2573.jpg\n",
      "with2635.jpg\n",
      "with2636.jpg\n",
      "with2637.jpg\n",
      "with2638.jpg\n",
      "with2652.jpg\n",
      "with2654.jpg\n",
      "with2655.jpg\n",
      "with2656.jpg\n",
      "with2657.jpg\n",
      "with2726.jpg\n",
      "with2727.jpg\n",
      "with2728.jpg\n",
      "with2729.jpg\n",
      "with2791.jpg\n",
      "with2792.jpg\n",
      "with2794.jpg\n",
      "with2795.jpg\n",
      "with663.jpg\n",
      "with664.jpg\n",
      "with665.jpg\n",
      "with668.jpg\n",
      "with669.jpg\n",
      "with670.jpg\n",
      "with671.jpg\n",
      "with675.jpg\n",
      "with677.jpg\n",
      "with876.jpg\n",
      "with877.jpg\n",
      "with878.jpg\n",
      "with879.jpg\n",
      "with880.jpg\n",
      "with881.jpg\n",
      "with930.jpg\n",
      "with931.jpg\n",
      "with932.jpg\n",
      "with933.jpg\n",
      "\n"
     ]
    }
   ],
   "source": [
    "print(data)"
   ]
  },
  {
   "cell_type": "code",
   "execution_count": 6,
   "metadata": {},
   "outputs": [
    {
     "name": "stdout",
     "output_type": "stream",
     "text": [
      "data/waiter/1.jpg\n",
      "data/waiter/2.jpg\n",
      "data/waiter/3.jpg\n",
      "data/waiter/4.jpg\n",
      "data/waiter/with1170.jpg\n",
      "data/waiter/with1171.jpg\n",
      "data/waiter/with1173.jpg\n",
      "data/waiter/with1174.jpg\n",
      "data/waiter/with1392.jpg\n",
      "data/waiter/with1393.jpg\n",
      "data/waiter/with1394.jpg\n",
      "data/waiter/with1395.jpg\n",
      "data/waiter/with1681.jpg\n",
      "data/waiter/with1682.jpg\n",
      "data/waiter/with1683.jpg\n",
      "data/waiter/with1684.jpg\n",
      "data/waiter/with2082.jpg\n",
      "data/waiter/with2083.jpg\n",
      "data/waiter/with2084.jpg\n",
      "data/waiter/with2085.jpg\n",
      "data/waiter/with2086.jpg\n",
      "data/waiter/with2203.jpg\n",
      "data/waiter/with2204.jpg\n",
      "data/waiter/with2205.jpg\n",
      "data/waiter/with2206.jpg\n",
      "data/waiter/with2207.jpg\n",
      "data/waiter/with2532.jpg\n",
      "data/waiter/with2533.jpg\n",
      "data/waiter/with2534.jpg\n",
      "data/waiter/with2535.jpg\n",
      "data/waiter/with2536.jpg\n",
      "data/waiter/with2568.jpg\n",
      "data/waiter/with2570.jpg\n",
      "data/waiter/with2571.jpg\n",
      "data/waiter/with2572.jpg\n",
      "data/waiter/with2573.jpg\n",
      "data/waiter/with2635.jpg\n",
      "data/waiter/with2636.jpg\n",
      "data/waiter/with2637.jpg\n",
      "data/waiter/with2638.jpg\n",
      "data/waiter/with2652.jpg\n",
      "data/waiter/with2654.jpg\n",
      "data/waiter/with2655.jpg\n",
      "data/waiter/with2656.jpg\n",
      "data/waiter/with2657.jpg\n",
      "data/waiter/with2726.jpg\n",
      "data/waiter/with2727.jpg\n",
      "data/waiter/with2728.jpg\n",
      "data/waiter/with2729.jpg\n",
      "data/waiter/with2791.jpg\n",
      "data/waiter/with2792.jpg\n",
      "data/waiter/with2794.jpg\n",
      "data/waiter/with2795.jpg\n",
      "data/waiter/with663.jpg\n",
      "data/waiter/with664.jpg\n",
      "data/waiter/with665.jpg\n",
      "data/waiter/with668.jpg\n",
      "data/waiter/with669.jpg\n",
      "data/waiter/with670.jpg\n",
      "data/waiter/with671.jpg\n",
      "data/waiter/with675.jpg\n",
      "data/waiter/with677.jpg\n",
      "data/waiter/with876.jpg\n",
      "data/waiter/with877.jpg\n",
      "data/waiter/with878.jpg\n",
      "data/waiter/with879.jpg\n",
      "data/waiter/with880.jpg\n",
      "data/waiter/with881.jpg\n",
      "data/waiter/with930.jpg\n",
      "data/waiter/with931.jpg\n",
      "data/waiter/with932.jpg\n",
      "data/waiter/with933.jpg\n"
     ]
    }
   ],
   "source": [
    "for line in data.split():\n",
    "    print(\"data/waiter/\", line, sep='')"
   ]
  },
  {
   "cell_type": "code",
   "execution_count": 8,
   "metadata": {},
   "outputs": [
    {
     "name": "stdout",
     "output_type": "stream",
     "text": [
      "’ҐЄгй п Є®¤®ў п бва ­Ёж : 1251\n"
     ]
    }
   ],
   "source": [
    "!chcp 1251"
   ]
  },
  {
   "cell_type": "code",
   "execution_count": 11,
   "metadata": {},
   "outputs": [
    {
     "name": "stderr",
     "output_type": "stream",
     "text": [
      "Системе не удается найти указанный путь.\n"
     ]
    },
    {
     "name": "stdout",
     "output_type": "stream",
     "text": [
      " Том в устройстве D имеет метку Локальный диск\n",
      " Серийный номер тома: ACBA-562F\n",
      "\n",
      " Содержимое папки D:\\ML\\data\\waiter\\dataset_1\n",
      "\n",
      "10.04.2021  14:03    <DIR>          .\n",
      "10.04.2021  14:03    <DIR>          ..\n",
      "10.04.2021  14:02    <DIR>          .ipynb_checkpoints\n",
      "10.04.2021  13:54                 7 classes.names\n",
      "10.04.2021  14:03             6 117 Generate train.txt.ipynb\n",
      "10.04.2021  12:44    <DIR>          images\n",
      "10.04.2021  12:39    <DIR>          inet\n",
      "10.04.2021  12:44    <DIR>          labels\n",
      "10.04.2021  13:58               889 train.txt\n",
      "10.04.2021  13:53                99 yolov4.data\n",
      "               4 файлов          7 112 байт\n",
      "               6 папок  301 564 887 040 байт свободно\n"
     ]
    }
   ],
   "source": [
    "import os\n",
    "\n",
    "!cd /images/val\n",
    "!dir"
   ]
  },
  {
   "cell_type": "code",
   "execution_count": 14,
   "metadata": {},
   "outputs": [],
   "source": [
    "val_labels = \"\"\"\n",
    "5.jpg\n",
    "6.jpg\n",
    "7.jpg\n",
    "with1172.jpg\n",
    "with1175.jpg\n",
    "with1396.jpg\n",
    "with1680.jpg\n",
    "with1685.jpg\n",
    "with2202.jpg\n",
    "with2569.jpg\n",
    "with2634.jpg\n",
    "with2639.jpg\n",
    "with2653.jpg\n",
    "with2724.jpg\n",
    "with2725.jpg\n",
    "with2790.jpg\n",
    "with2793.jpg\n",
    "with662.jpg\n",
    "with674.jpg\n",
    "with676.jpg\n",
    "\"\"\""
   ]
  },
  {
   "cell_type": "code",
   "execution_count": 15,
   "metadata": {},
   "outputs": [
    {
     "name": "stdout",
     "output_type": "stream",
     "text": [
      "data/waiter/5.jpg\n",
      "data/waiter/6.jpg\n",
      "data/waiter/7.jpg\n",
      "data/waiter/with1172.jpg\n",
      "data/waiter/with1175.jpg\n",
      "data/waiter/with1396.jpg\n",
      "data/waiter/with1680.jpg\n",
      "data/waiter/with1685.jpg\n",
      "data/waiter/with2202.jpg\n",
      "data/waiter/with2569.jpg\n",
      "data/waiter/with2634.jpg\n",
      "data/waiter/with2639.jpg\n",
      "data/waiter/with2653.jpg\n",
      "data/waiter/with2724.jpg\n",
      "data/waiter/with2725.jpg\n",
      "data/waiter/with2790.jpg\n",
      "data/waiter/with2793.jpg\n",
      "data/waiter/with662.jpg\n",
      "data/waiter/with674.jpg\n",
      "data/waiter/with676.jpg\n"
     ]
    }
   ],
   "source": [
    "for line in val_labels.split():\n",
    "    print(\"data/waiter/\", line, sep='')"
   ]
  }
 ],
 "metadata": {
  "kernelspec": {
   "display_name": "Python 3",
   "language": "python",
   "name": "python3"
  },
  "language_info": {
   "codemirror_mode": {
    "name": "ipython",
    "version": 3
   },
   "file_extension": ".py",
   "mimetype": "text/x-python",
   "name": "python",
   "nbconvert_exporter": "python",
   "pygments_lexer": "ipython3",
   "version": "3.8.5"
  }
 },
 "nbformat": 4,
 "nbformat_minor": 4
}
